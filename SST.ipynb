{
 "cells": [
  {
   "cell_type": "markdown",
   "metadata": {},
   "source": [
    "# SST\n",
    "\n",
    "SSt data from copernicus\n",
    "https://resources.marine.copernicus.eu/?option=com_csw&view=details&product_id=SST_GLO_SST_L3S_NRT_OBSERVATIONS_010_010"
   ]
  },
  {
   "cell_type": "code",
   "execution_count": 1,
   "metadata": {},
   "outputs": [],
   "source": [
    "%matplotlib inline\n",
    "import numpy as np\n",
    "import matplotlib.pyplot as plt\n",
    "from matplotlib.dates import MonthLocator, YearLocator\n",
    "import xarray as xr\n",
    "import cmocean as cm\n",
    "import marineHeatWaves as mhw\n",
    "from datetime import date\n",
    "import pandas as pd"
   ]
  },
  {
   "cell_type": "code",
   "execution_count": 2,
   "metadata": {},
   "outputs": [],
   "source": [
    "import warnings\n",
    "warnings.filterwarnings(\"ignore\")"
   ]
  },
  {
   "cell_type": "code",
   "execution_count": 3,
   "metadata": {},
   "outputs": [],
   "source": [
    "file_name = \"data/METOFFICE-GLO-SST-L4-NRT-OBS-SST-V2_1624627070975.nc\"\n",
    "ds_SST = xr.open_dataset(file_name)"
   ]
  },
  {
   "cell_type": "code",
   "execution_count": 13,
   "metadata": {},
   "outputs": [],
   "source": [
    "ds_SST = ds_SST.resample(time = \"1D\").mean(keep_attrs=True);"
   ]
  },
  {
   "cell_type": "code",
   "execution_count": 46,
   "metadata": {},
   "outputs": [],
   "source": [
    "def MHW_func (data, lon, lat, climP=[2014.0,2021.0], altClim=False):\n",
    "    yy_start = int(data.time[0].dt.year)\n",
    "    yy_end = int(data.time[-1].dt.year)\n",
    "    mm_start = int(data.time[0].dt.month)\n",
    "    mm_end = int(data.time[-1].dt.month)\n",
    "    dd_start = int(data.time[0].dt.day)\n",
    "    dd_end = int(data.time[-1].dt.day)\n",
    "    \n",
    "    t = np.arange(\n",
    "        date(yy_start, mm_start, dd_start).toordinal(),                 # .toordinal turns the date into a number that the algorithm can process\n",
    "        date(yy_end, mm_end, dd_end).toordinal()+1,1) \n",
    "    \n",
    "    temp = data.analysed_sst.sel(lon=lon, lat=lat, method = 'nearest').squeeze().values   # by using .squeeze().values we are first removing any other depth and then turning the data into a 1d numpy array \n",
    "                                                                        # without doing this the data will still be in an array and the algorithm can't handle it\n",
    "    \n",
    "    mhws, clim = mhw.detect(t, temp, climatologyPeriod=climP, alternateClimatology=altClim)                                    # using the algorithm\n",
    "    mcss, clim_cold = mhw.detect(t, temp, coldSpells = True, climatologyPeriod=climP, alternateClimatology=altClim)            # cold spells \n",
    "    return mhws, mcss, clim, clim_cold, t, temp  "
   ]
  },
  {
   "cell_type": "code",
   "execution_count": 48,
   "metadata": {},
   "outputs": [
    {
     "data": {
      "text/plain": [
       "({'time_start': [],\n",
       "  'time_end': [],\n",
       "  'time_peak': [],\n",
       "  'date_start': [],\n",
       "  'date_end': [],\n",
       "  'date_peak': [],\n",
       "  'index_start': [],\n",
       "  'index_end': [],\n",
       "  'index_peak': [],\n",
       "  'duration': [],\n",
       "  'duration_moderate': [],\n",
       "  'duration_strong': [],\n",
       "  'duration_severe': [],\n",
       "  'duration_extreme': [],\n",
       "  'intensity_max': [],\n",
       "  'intensity_mean': [],\n",
       "  'intensity_var': [],\n",
       "  'intensity_cumulative': [],\n",
       "  'intensity_max_relThresh': [],\n",
       "  'intensity_mean_relThresh': [],\n",
       "  'intensity_var_relThresh': [],\n",
       "  'intensity_cumulative_relThresh': [],\n",
       "  'intensity_max_abs': [],\n",
       "  'intensity_mean_abs': [],\n",
       "  'intensity_var_abs': [],\n",
       "  'intensity_cumulative_abs': [],\n",
       "  'category': [],\n",
       "  'rate_onset': [],\n",
       "  'rate_decline': [],\n",
       "  'n_events': 0},\n",
       " {'time_start': [],\n",
       "  'time_end': [],\n",
       "  'time_peak': [],\n",
       "  'date_start': [],\n",
       "  'date_end': [],\n",
       "  'date_peak': [],\n",
       "  'index_start': [],\n",
       "  'index_end': [],\n",
       "  'index_peak': [],\n",
       "  'duration': [],\n",
       "  'duration_moderate': [],\n",
       "  'duration_strong': [],\n",
       "  'duration_severe': [],\n",
       "  'duration_extreme': [],\n",
       "  'intensity_max': [],\n",
       "  'intensity_mean': [],\n",
       "  'intensity_var': [],\n",
       "  'intensity_cumulative': [],\n",
       "  'intensity_max_relThresh': [],\n",
       "  'intensity_mean_relThresh': [],\n",
       "  'intensity_var_relThresh': [],\n",
       "  'intensity_cumulative_relThresh': [],\n",
       "  'intensity_max_abs': [],\n",
       "  'intensity_mean_abs': [],\n",
       "  'intensity_var_abs': [],\n",
       "  'intensity_cumulative_abs': [],\n",
       "  'category': [],\n",
       "  'rate_onset': [],\n",
       "  'rate_decline': [],\n",
       "  'n_events': 0},\n",
       " {'thresh': array([nan, nan, nan, ..., nan, nan, nan]),\n",
       "  'seas': array([nan, nan, nan, ..., nan, nan, nan]),\n",
       "  'missing': array([ True,  True,  True, ...,  True,  True,  True])},\n",
       " {'thresh': array([nan, nan, nan, ..., nan, nan, nan]),\n",
       "  'seas': array([nan, nan, nan, ..., nan, nan, nan]),\n",
       "  'missing': array([ True,  True,  True, ...,  True,  True,  True])},\n",
       " array([735293, 735294, 735295, ..., 737963, 737964, 737965]),\n",
       " array([nan, nan, nan, ..., nan, nan, nan], dtype=float32))"
      ]
     },
     "execution_count": 48,
     "metadata": {},
     "output_type": "execute_result"
    }
   ],
   "source": [
    "MHW_func(ds_SST, 57.1, -9.6)"
   ]
  }
 ],
 "metadata": {
  "kernelspec": {
   "display_name": "Python [conda env:py3_MHW]",
   "language": "python",
   "name": "conda-env-py3_MHW-py"
  },
  "language_info": {
   "codemirror_mode": {
    "name": "ipython",
    "version": 3
   },
   "file_extension": ".py",
   "mimetype": "text/x-python",
   "name": "python",
   "nbconvert_exporter": "python",
   "pygments_lexer": "ipython3",
   "version": "3.9.5"
  }
 },
 "nbformat": 4,
 "nbformat_minor": 4
}
