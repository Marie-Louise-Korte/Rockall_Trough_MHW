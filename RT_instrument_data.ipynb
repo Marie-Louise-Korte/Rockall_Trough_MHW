{
 "cells": [
  {
   "cell_type": "code",
   "execution_count": 1,
   "metadata": {},
   "outputs": [],
   "source": [
    "%matplotlib inline\n",
    "import numpy as np\n",
    "import matplotlib.pyplot as plt\n",
    "from matplotlib.dates import MonthLocator, YearLocator\n",
    "import xarray as xr\n",
    "import cmocean as cm\n",
    "import marineHeatWaves as mhw\n",
    "from datetime import date\n",
    "import pickle"
   ]
  },
  {
   "cell_type": "code",
   "execution_count": 2,
   "metadata": {},
   "outputs": [],
   "source": [
    "import warnings\n",
    "warnings.filterwarnings(\"ignore\")"
   ]
  },
  {
   "cell_type": "markdown",
   "metadata": {},
   "source": [
    "## Data"
   ]
  },
  {
   "cell_type": "code",
   "execution_count": 3,
   "metadata": {},
   "outputs": [],
   "source": [
    "file_name = \"data/rteb_all_1D.nc\"\n",
    "ds_eb = xr.open_dataset(file_name)"
   ]
  },
  {
   "cell_type": "code",
   "execution_count": 4,
   "metadata": {},
   "outputs": [],
   "source": [
    "file_name = \"data/rtwb_1D.nc\"\n",
    "ds_wb = xr.open_dataset(file_name)"
   ]
  },
  {
   "cell_type": "code",
   "execution_count": 5,
   "metadata": {},
   "outputs": [],
   "source": [
    "file_name = \"data/ORAS5.nc\"\n",
    "oras5 = xr.open_dataset(file_name)\n",
    "\n",
    "oras5_EB= oras5.sel(latitude = 57.1, longitude = -9.6 -1, method = 'nearest')\n",
    "oras5_WB = oras5.sel(latitude = 57.5, longitude = -12.5, method = 'nearest')"
   ]
  },
  {
   "cell_type": "code",
   "execution_count": 6,
   "metadata": {},
   "outputs": [],
   "source": [
    "#EB_grid = np.load('data/EB_gridded.npy', allow_pickle='TRUE')\n",
    "#WB_grid = np.load('data/WB_gridded.npy', allow_pickle='TRUE')\n",
    "\n",
    "filename=\"data/gridded_EB.pkl\"\n",
    "infile = open(filename,'rb')\n",
    "new_dict = pickle.load(infile)\n",
    "infile.close()\n",
    "\n",
    "EB_grid = new_dict\n",
    "\n",
    "filename=\"data/gridded_WB.pkl\"\n",
    "infile = open(filename,'rb')\n",
    "new_dict = pickle.load(infile)\n",
    "infile.close()\n",
    "\n",
    "WB_grid = new_dict"
   ]
  },
  {
   "cell_type": "markdown",
   "metadata": {},
   "source": [
    "## Functions"
   ]
  },
  {
   "cell_type": "code",
   "execution_count": 7,
   "metadata": {},
   "outputs": [],
   "source": [
    "def MHW_func (data, depth, climP=[2014.0,2020.0], altClim=False):\n",
    "    yy_start = int(data.time[0].dt.year)\n",
    "    yy_end = int(data.time[-1].dt.year)\n",
    "    mm_start = int(data.time[0].dt.month)\n",
    "    mm_end = int(data.time[-1].dt.month)\n",
    "    dd_start = int(data.time[0].dt.day)\n",
    "    dd_end = int(data.time[-1].dt.day)\n",
    "    \n",
    "    t = np.arange(\n",
    "        date(yy_start, mm_start, dd_start).toordinal(),                 # .toordinal turns the date into a number that the algorithm can process\n",
    "        date(yy_end, mm_end, dd_end).toordinal()+1,1) \n",
    "    \n",
    "    temp = data.sel(depth=depth, method = 'nearest').squeeze().values   # by using .squeeze().values we are first removing any other depth and then turning the data into a 1d numpy array \n",
    "                                                                        # without doing this the data will still be in an array and the algorithm can't handle it\n",
    "    \n",
    "    mhws, clim = mhw.detect(t, temp, climatologyPeriod=climP, alternateClimatology=altClim)                                    # using the algorithm\n",
    "    mcss, clim_cold = mhw.detect(t, temp, coldSpells = True, climatologyPeriod=climP, alternateClimatology=altClim)            # cold spells \n",
    "    return mhws, mcss, clim, clim_cold, t, temp  "
   ]
  },
  {
   "cell_type": "code",
   "execution_count": 8,
   "metadata": {},
   "outputs": [],
   "source": [
    "def DICT_func(data, depth, climP=[2014,2020], altClim= False, altT=False, altData=False):  \n",
    "    # define 6 empty dictionaries\n",
    "    mhws_,mcss_,clim_,clim_cold_,t_,temp_ = {},{},{},{},{},{}\n",
    "\n",
    "    # Iterating through all instrument depths       \n",
    "    for n in depth:\n",
    "        \n",
    "        if altClim:\n",
    "            temp_oras = np.array(altData.sel(depth=n, method= 'nearest'))\n",
    "            altClim=[altT,temp_oras]\n",
    "\n",
    "        mhws, mcss, clim, clim_cold, t, temp = MHW_func(data, n, climP=climP, altClim=altClim)\n",
    "        mhws_.update({str(n):mhws})\n",
    "        mcss_.update({str(n):mcss})\n",
    "        clim_.update({str(n):clim})\n",
    "        clim_cold_.update({str(n):clim_cold})\n",
    "        t_.update({str(n):t})\n",
    "        temp_.update({str(n):temp})\n",
    "    \n",
    "    dictionary = {'mhws':mhws_,'mcss':mcss_,'clim':clim_,'clim_cold':clim_cold_,'t':t_,'temp':temp_}\n",
    "    return dictionarydf"
   ]
  },
  {
   "cell_type": "code",
   "execution_count": 9,
   "metadata": {},
   "outputs": [],
   "source": [
    "#fig, ax = plt.subplots(3,1, figsize= (15,5))\n",
    "def MHW_plot(t,temp,clim,ax):\n",
    "\n",
    "    \n",
    "    ax.plot(t,temp,label='temp', color='grey', linewidth='.75')\n",
    "    ax.plot(t,clim['seas'],label='clim', color='b')\n",
    "    ax.plot(t,clim['thresh'], label='thresh', color='r')\n",
    "    #plt.plot(ds1D.TIME,clim_cold['thresh'], label='thresh')\n",
    "    ax.legend()\n",
    "\n",
    "    yloc = YearLocator()\n",
    "    mloc = MonthLocator()\n",
    "    ax.xaxis.set_major_locator(yloc)\n",
    "    ax.xaxis.set_minor_locator(mloc)\n",
    "\n",
    "    ax.grid()"
   ]
  },
  {
   "cell_type": "code",
   "execution_count": 10,
   "metadata": {},
   "outputs": [],
   "source": [
    "def ALL_events(dict, n):\n",
    "    \n",
    "    #defining my variables\n",
    "    mhws = dict['mhws'][str(n)]\n",
    "    mcss = dict['mcss'][str(n)]\n",
    "    t = dict['t'][str(n)]\n",
    "    temp = dict['temp'][str(n)]\n",
    "    clim = dict['clim'][str(n)]\n",
    "    clim_cold = dict['clim_cold'][str(n)]\n",
    "    \n",
    "    dates = [date.fromordinal(tt.astype(int)) for tt in t]\n",
    "\n",
    "    ev = (mhws['n_events'])\n",
    "    ec = (mcss['n_events'])\n",
    "\n",
    "\n",
    "    plt.figure(figsize=(30,15))\n",
    "    plt.subplot(2,1,1)\n",
    "\n",
    "    # Plot t, seasonal cycle, and threshold\n",
    "    plt.plot(dates, clim['thresh'], ':r', label = 'Threshold warm')\n",
    "    plt.plot(dates, clim_cold['thresh'], ':g', label = 'Threshold cold')\n",
    "    plt.plot(dates, temp, 'k', label = 'Temperature', linewidth = .75)\n",
    "    plt.plot(dates, clim['seas'], 'b', label = 'Climatology')\n",
    "    plt.legend()\n",
    "    plt.title('Data Overview')\n",
    "    plt.xlim(dates[0], dates[-1])\n",
    "    #plt.xlim(date(2016,1,1), date(2017,5,1))\n",
    "    plt.ylim(temp.min()-0.1, temp.max()+0.1)\n",
    "    plt.ylabel(r't $^\\circ$C')\n",
    "    plt.grid()\n",
    "\n",
    "    # plt the heatwaves\n",
    "    plt.subplot(2,1,2)\n",
    "\n",
    "    # Find all MHWs and shade\n",
    "    for ev0 in np.arange (ev):\n",
    "        t1 = np.where(t==mhws['time_start'][ev0])[0][0]\n",
    "        t2 = np.where(t==mhws['time_end'][ev0])[0][0]\n",
    "        plt.fill_between(dates[t1:t2+1], temp[t1:t2+1], clim['thresh'][t1:t2+1], \\\n",
    "                         color='pink')\n",
    "\n",
    "    # Find MHW of interest and shade accordingly\n",
    "    ev_i = np.argmax(mhws['intensity_max'])\n",
    "    t1 = np.where(t==mhws['time_start'][ev_i])[0][0]\n",
    "    t2 = np.where(t==mhws['time_end'][ev_i])[0][0]\n",
    "    plt.fill_between(dates[t1:t2+1], temp[t1:t2+1], clim['thresh'][t1:t2+1], \\\n",
    "                     color='deeppink', label = 'MHW event with max intensity')\n",
    "\n",
    "\n",
    "    # same for cold spells\n",
    "    for ec0 in np.arange(ec):\n",
    "        tc1 = np.where(t==mcss['time_start'][ec0])[0][0]\n",
    "        tc2 = np.where(t==mcss['time_end'][ec0])[0][0]\n",
    "        plt.fill_between(dates[tc1:tc2+1], temp[tc1:tc2+1], clim_cold['thresh'][tc1:tc2+1], \\\n",
    "                         color='cyan')\n",
    "\n",
    "    # Find MCSS of interest and shade accordingly\n",
    "    ec_i = np.argmin(mcss['intensity_max'])\n",
    "    tc1 = np.where(t==mcss['time_start'][ec_i])[0][0]\n",
    "    tc2 = np.where(t==mcss['time_end'][ec_i])[0][0]\n",
    "    plt.fill_between(dates[tc1:tc2+1], temp[tc1:tc2+1], clim_cold['thresh'][tc1:tc2+1], \\\n",
    "                     color='darkcyan', label = 'MCSS event with max intensity')    \n",
    "\n",
    "    # Plot t, seasonal cycle, threshold, shade MHWs with main event in red\n",
    "    plt.plot(dates, clim['thresh'], ':r', linewidth=2, label = 'Threshold warm')\n",
    "    plt.plot(dates, clim_cold['thresh'], ':g', linewidth=2, label = 'Threshold cold')\n",
    "    plt.plot(dates, temp, 'k', linewidth=.75, label = 'Temperature')\n",
    "    plt.plot(dates, clim['seas'], 'b', linewidth=2, label = 'Climatology')\n",
    "    plt.legend()\n",
    "    plt.title('Marine Heatwaves and Cold Spells')\n",
    "    #plt.xlim(date(2016,1,1), date(2016,12,31))\n",
    "    plt.xlim(dates[0], dates[-1])\n",
    "    #plt.xlim(mhws['date_start'][ev-12], mhws['date_end'][ev+4])\n",
    "    plt.ylim(temp.min()-0.1, temp.max()+0.1)\n",
    "    plt.grid()\n",
    "    plt.ylabel(r't $^\\circ$C');\n",
    "    \n",
    "    #print some intersting stats\n",
    "    print('Overview:')\n",
    "    print('Number of MHWs: ', ev)\n",
    "    print('Number of MCSs: ', ec)\n",
    "    print('The MHWs of max intensity lastet from the', mhws['date_start'][ev_i], 'to the', mhws['date_end'][ev_i])\n",
    "    print('The MCSs of max intensity lastet from the', mcss['date_start'][ec_i], 'to the', mcss['date_end'][ec_i])\n",
    "    print(' ')\n",
    "\n",
    "#plt.savefig('100m_EAST_zoom_2016-2017', dpi = 300)"
   ]
  },
  {
   "cell_type": "code",
   "execution_count": 11,
   "metadata": {},
   "outputs": [],
   "source": [
    "def OV_events(dict, n):\n",
    "    \n",
    "    #defining my variables\n",
    "    mhws = dict['mhws'][str(n)]\n",
    "    mcss = dict['mcss'][str(n)]\n",
    "    t = dict['t'][str(n)]\n",
    "    temp = dict['temp'][str(n)]\n",
    "    clim = dict['clim'][str(n)]\n",
    "    clim_cold = dict['clim_cold'][str(n)]\n",
    "    \n",
    "    dates = [date.fromordinal(tt.astype(int)) for tt in t]\n",
    "\n",
    "    ev = (mhws['n_events'])\n",
    "    ec = (mcss['n_events'])\n",
    "\n",
    "\n",
    "    #plt.figure(figsize=(30,1),frameon=False)\n",
    "    #plt.subplot(1,1,1)\n",
    "\n",
    "\n",
    "    # Find all MHWs and shade\n",
    "    for ev0 in np.arange (ev):\n",
    "        t1 = np.where(t==mhws['time_start'][ev0])[0][0]\n",
    "        t2 = np.where(t==mhws['time_end'][ev0])[0][0]\n",
    "        plt.fill_between(dates[t1:t2+1], temp[t1:t2+1], clim['thresh'][t1:t2+1], \\\n",
    "                         color='deeppink')\n",
    "\n",
    "    # same for cold spells\n",
    "    for ec0 in np.arange(ec):\n",
    "        tc1 = np.where(t==mcss['time_start'][ec0])[0][0]\n",
    "        tc2 = np.where(t==mcss['time_end'][ec0])[0][0]\n",
    "        plt.fill_between(dates[tc1:tc2+1], temp[tc1:tc2+1], clim_cold['thresh'][tc1:tc2+1], \\\n",
    "                         color='darkcyan')\n",
    "\n",
    "    # Plot t, seasonal cycle, threshold, shade MHWs with main event in red\n",
    "    plt.plot(dates, clim['thresh'], ':r', linewidth=0.1, label = 'Threshold warm')\n",
    "    plt.plot(dates, clim_cold['thresh'], ':g', linewidth=0.1, label = 'Threshold cold')\n",
    "    plt.plot(dates, temp, 'k', linewidth=.1, label = 'Temperature')\n",
    "    plt.plot(dates, clim['seas'], 'b', linewidth=.1, label = 'Climatology')\n",
    "    #plt.legend()\n",
    "    plt.title('Marine Heatwaves and Cold Spells')\n",
    "    #plt.xlim(date(2016,1,1), date(2016,12,31))\n",
    "    plt.xlim(dates[0], dates[-1])\n",
    "    #plt.xlim(mhws['date_start'][ev-12], mhws['date_end'][ev+4])\n",
    "    #plt.ylim(temp.min()-0.1, temp.max()+0.1)\n",
    "    plt.grid()\n",
    "    plt.ylabel(r't $^\\circ$C')\n",
    "    \n",
    "    fig.tight_layout()\n",
    "    \n",
    "    ;\n"
   ]
  },
  {
   "cell_type": "code",
   "execution_count": 12,
   "metadata": {},
   "outputs": [],
   "source": [
    "def OV_stacked_events(dict, n):\n",
    "    \n",
    "    #defining my variables\n",
    "    mhws = dict['mhws'][str(n)]\n",
    "    mcss = dict['mcss'][str(n)]\n",
    "    t = dict['t'][str(n)]\n",
    "    temp = dict['temp'][str(n)]\n",
    "    clim = dict['clim'][str(n)]\n",
    "    clim_cold = dict['clim_cold'][str(n)]\n",
    "    \n",
    "    dates = [date.fromordinal(tt.astype(int)) for tt in t]\n",
    "    \n",
    "    \n",
    "    ev = (mhws['n_events'])\n",
    "    ec = (mcss['n_events'])\n",
    "\n",
    "    fig, ax = plt.subplots(figsize=(30,3),frameon=False)\n",
    "    plt.subplot(1,1,1)\n",
    "\n",
    "\n",
    "    # Find all MHWs and shade\n",
    "    for ev0 in np.arange (ev):\n",
    "        t1 = np.where(t==mhws['time_start'][ev0])[0][0]\n",
    "        t2 = np.where(t==mhws['time_end'][ev0])[0][0]\n",
    "        \n",
    "        plt.axvspan(xmin=dates[t1], xmax=dates[t2],color='deeppink')\n",
    "        \n",
    "\n",
    "    # same for cold spells\n",
    "    for ec0 in np.arange(ec):\n",
    "        tc1 = np.where(t==mcss['time_start'][ec0])[0][0]\n",
    "        tc2 = np.where(t==mcss['time_end'][ec0])[0][0]\n",
    "        \n",
    "        plt.axvspan(xmin=dates[tc1], xmax=dates[tc2],color='darkcyan')\n",
    "    \n",
    "        \n",
    "    # Plot t, seasonal cycle, threshold, shade MHWs with main event in red\n",
    "    plt.plot(dates, clim['thresh'], ':r', linewidth=0.1, label = 'Threshold warm')\n",
    "    plt.plot(dates, clim_cold['thresh'], ':g', linewidth=0.1, label = 'Threshold cold')\n",
    "    plt.plot(dates, temp, 'k', linewidth=.1, label = 'Temperature')\n",
    "    plt.plot(dates, clim['seas'], 'b', linewidth=.1, label = 'Climatology')\n",
    "    \n",
    "    if n == 50.0:\n",
    "        plt.title('Marine Heatwaves and Cold Spells')\n",
    "    #plt.legend()\n",
    "    #plt.title('Marine Heatwaves and Cold Spells')\n",
    "    plt.xlim(date(2014,7,15), date(2020,10,20))\n",
    "    #plt.xlim(dates[0], dates[-1])\n",
    "    #plt.xlim(mhws['date_start'][ev-12], mhws['date_end'][ev+4])\n",
    "    #plt.ylim(pres.min()-0.1, temp.max()+0.1)\n",
    "    plt.grid()\n",
    "    #plt.ylabel(r't $^\\circ$C')\n",
    "    plt.ylabel(str(n))\n",
    "\n",
    "    ;\n",
    "    "
   ]
  },
  {
   "cell_type": "code",
   "execution_count": 13,
   "metadata": {},
   "outputs": [],
   "source": [
    "def OV_stacked_ax_events(dict, n, num):\n",
    "    \n",
    "    #defining my variables\n",
    "    mhws = dict['mhws'][str(n)]\n",
    "    mcss = dict['mcss'][str(n)]\n",
    "    t = dict['t'][str(n)]\n",
    "    temp = dict['temp'][str(n)]\n",
    "    clim = dict['clim'][str(n)]\n",
    "    clim_cold = dict['clim_cold'][str(n)]\n",
    "    \n",
    "    dates = [date.fromordinal(tt.astype(int)) for tt in t]\n",
    "    \n",
    "    ev = (mhws['n_events'])\n",
    "    ec = (mcss['n_events'])\n",
    "\n",
    "    # Find all MHWs and shade\n",
    "    for ev0 in np.arange (ev):\n",
    "        t1 = np.where(t==mhws['time_start'][ev0])[0][0]\n",
    "        t2 = np.where(t==mhws['time_end'][ev0])[0][0]\n",
    "        \n",
    "        ax[num].axvspan(xmin=dates[t1], xmax=dates[t2],color='deeppink')\n",
    "        \n",
    "\n",
    "    # same for cold spells\n",
    "    for ec0 in np.arange(ec):\n",
    "        tc1 = np.where(t==mcss['time_start'][ec0])[0][0]\n",
    "        tc2 = np.where(t==mcss['time_end'][ec0])[0][0]\n",
    "        \n",
    "        ax[num].axvspan(xmin=dates[tc1], xmax=dates[tc2],color='darkcyan')\n",
    "        \n",
    "    # Plot t, seasonal cycle, threshold, shade MHWs with main event in red\n",
    "#     ax[num].plot(dates, clim['thresh'], ':r', linewidth=0.1, label = 'Threshold warm')\n",
    "#     ax[num].plot(dates, clim_cold['thresh'], ':g', linewidth=0.1, label = 'Threshold cold')\n",
    "#     ax[num].plot(dates, temp, 'k', linewidth=.1, label = 'Temperature')\n",
    "#     ax[num].plot(dates, clim['seas'], 'b', linewidth=.1, label = 'Climatology')\n",
    "    \n",
    "    if n == 50.0:\n",
    "        ax[num].set_title('Marine Heatwaves and Cold Spells')\n",
    "    #plt.legend()\n",
    "    #plt.title('Marine Heatwaves and Cold Spells')\n",
    "    ax[num].set_xlim(date(2014,7,15), date(2020,10,20))\n",
    "    ax[num].grid(axis = 'x')\n",
    "    #plt.ylabel(r't $^\\circ$C')\n",
    "    ax[num].set_ylabel(str(n),rotation=0, labelpad=15)\n",
    "\n",
    "       \n",
    "    ax[num].tick_params(axis='y', which='both', right=False,\n",
    "                left=False, labelleft=False)\n",
    "\n",
    "    ;\n",
    "    "
   ]
  },
  {
   "cell_type": "code",
   "execution_count": 14,
   "metadata": {},
   "outputs": [],
   "source": [
    "def Vars_and_events(dict, ds, n, invert=False, seventeen=False):\n",
    "    \n",
    "    #defining my variables\n",
    "    mhws = dict['mhws'][str(n)]\n",
    "    mcss = dict['mcss'][str(n)]\n",
    "    t = dict['t'][str(n)]\n",
    "    temp = dict['temp'][str(n)]\n",
    "    clim = dict['clim'][str(n)]\n",
    "    clim_cold = dict['clim_cold'][str(n)]\n",
    "    \n",
    "    dates = [date.fromordinal(tt.astype(int)) for tt in t]\n",
    "    \n",
    "    \n",
    "    ev = (mhws['n_events'])\n",
    "    ec = (mcss['n_events'])\n",
    "\n",
    "    fig, ax = plt.subplots(figsize=(20,5),frameon=False)\n",
    "    plt.subplot(1,1,1)\n",
    "\n",
    "\n",
    "    # Find all MHWs and shade\n",
    "    for ev0 in np.arange (ev):\n",
    "        t1 = np.where(t==mhws['time_start'][ev0])[0][0]\n",
    "        t2 = np.where(t==mhws['time_end'][ev0])[0][0]\n",
    "        \n",
    "        plt.axvspan(xmin=dates[t1], xmax=dates[t2],color='deeppink')\n",
    "        \n",
    "\n",
    "    # same for cold spells\n",
    "    for ec0 in np.arange(ec):\n",
    "        tc1 = np.where(t==mcss['time_start'][ec0])[0][0]\n",
    "        tc2 = np.where(t==mcss['time_end'][ec0])[0][0]\n",
    "        \n",
    "        plt.axvspan(xmin=dates[tc1], xmax=dates[tc2],color='darkcyan')\n",
    "    \n",
    "    # plot oxygen concentration\n",
    "    plt.plot(dates, ds.sel(depth = n), 'k', label ='pressure in db')\n",
    "    plt.title(f'Pressure and Marine Heatwaves and Cold Spells at {n} m')\n",
    "    if seventeen:\n",
    "        plt.xlim(date(2017,5,10), date(2018,7,10))\n",
    "    else:\n",
    "        plt.xlim(date(2014,7,15), date(2020,10,20))\n",
    "    plt.grid()\n",
    "    plt.legend()\n",
    "    plt.ylabel(str(n))\n",
    "    if invert:\n",
    "        plt.gca().invert_yaxis()\n",
    "\n",
    "\n",
    "   "
   ]
  },
  {
   "cell_type": "markdown",
   "metadata": {},
   "source": [
    "# Dictionary for EB and WB 'normal clim'"
   ]
  },
  {
   "cell_type": "code",
   "execution_count": 15,
   "metadata": {},
   "outputs": [],
   "source": [
    "depth_EB = np.array(ds_eb.depth).astype(int)\n",
    "depth_WB = np.array(ds_wb.depth).astype(int)"
   ]
  },
  {
   "cell_type": "code",
   "execution_count": 16,
   "metadata": {},
   "outputs": [],
   "source": [
    "EB = DICT_func(ds_eb.temp, depth_EB)"
   ]
  },
  {
   "cell_type": "code",
   "execution_count": 17,
   "metadata": {},
   "outputs": [],
   "source": [
    "WB = DICT_func(ds_wb.temp, depth_WB)"
   ]
  },
  {
   "cell_type": "markdown",
   "metadata": {},
   "source": [
    "# Dictionary oras5_EB_10 and oras_WB_10 'alternative clim'"
   ]
  },
  {
   "cell_type": "code",
   "execution_count": 18,
   "metadata": {},
   "outputs": [],
   "source": [
    "# alt clim from ORAS5 -› take only last 10 years of data\n",
    "mhws_EB_10,mcss_EB_10,clim_EB_10,clim_cold_EB_10,t_EB_10,temp_EB_10 = {},{},{},{},{},{}\n",
    "\n",
    "t_oras = np.arange(\n",
    "        date(1993,1,1).toordinal(),\n",
    "        date(2019,12,31).toordinal()+1,1)\n",
    "\n",
    "# Iterating through all instrument depths\n",
    "for n in depth_EB: \n",
    "    temp_oras = np.array(oras5_EB.thetao_oras.sel(depth=n, method= 'nearest'))\n",
    "    \n",
    "    mhws, mcss, clim, clim_cold, t, temp = MHW_func(ds_eb.temp, n, climP=[2010,2019], altClim=[t_oras,temp_oras])\n",
    "    mhws_EB_10.update({str(n):mhws})\n",
    "    mcss_EB_10.update({str(n):mcss})\n",
    "    clim_EB_10.update({str(n):clim})\n",
    "    clim_cold_EB_10.update({str(n):clim_cold})\n",
    "    t_EB_10.update({str(n):t})\n",
    "    temp_EB_10.update({str(n):temp})\n",
    "    \n",
    "oras5_EB_10 = {'mhws':mhws_EB_10,'mcss':mcss_EB_10,'clim':clim_EB_10,'clim_cold':clim_cold_EB_10,'t':t_EB_10,'temp':temp_EB_10}"
   ]
  },
  {
   "cell_type": "code",
   "execution_count": 19,
   "metadata": {},
   "outputs": [],
   "source": [
    "# alt clim from ORAS5 -› take only last 10 years of data\n",
    "mhws_WB_10,mcss_WB_10,clim_WB_10,clim_cold_WB_10,t_WB_10,temp_WB_10 = {},{},{},{},{},{}\n",
    "\n",
    "t_oras = np.arange(\n",
    "        date(1993,1,1).toordinal(),\n",
    "        date(2019,12,31).toordinal()+1,1)\n",
    "\n",
    "# Iterating through all instrument depths\n",
    "for n in depth_WB: \n",
    "    temp_oras = np.array(oras5_WB.thetao_oras.sel(depth=n, method= 'nearest'))\n",
    "    \n",
    "    mhws, mcss, clim, clim_cold, t, temp = MHW_func(ds_wb.temp, n, climP=[2010,2019], altClim=[t_oras,temp_oras])\n",
    "    mhws_WB_10.update({str(n):mhws})\n",
    "    mcss_WB_10.update({str(n):mcss})\n",
    "    clim_WB_10.update({str(n):clim})\n",
    "    clim_cold_WB_10.update({str(n):clim_cold})\n",
    "    t_WB_10.update({str(n):t})\n",
    "    temp_WB_10.update({str(n):temp})\n",
    "    \n",
    "oras5_WB_10 = {'mhws':mhws_WB_10,'mcss':mcss_WB_10,'clim':clim_WB_10,'clim_cold':clim_cold_WB_10,'t':t_WB_10,'temp':temp_WB_10}"
   ]
  },
  {
   "cell_type": "markdown",
   "metadata": {},
   "source": [
    "# Plotting the data"
   ]
  },
  {
   "cell_type": "code",
   "execution_count": 20,
   "metadata": {},
   "outputs": [
    {
     "data": {
      "text/plain": [
       "12"
      ]
     },
     "execution_count": 20,
     "metadata": {},
     "output_type": "execute_result"
    }
   ],
   "source": [
    "#np.arange\n",
    "(len(depth_EB))"
   ]
  },
  {
   "cell_type": "code",
   "execution_count": 26,
   "metadata": {},
   "outputs": [
    {
     "data": {
      "image/png": "[encoded data removed]",
      "text/plain": [
       "<Figure size 1440x360 with 12 Axes>"
      ]
     },
     "metadata": {
      "needs_background": "light"
     },
     "output_type": "display_data"
    }
   ],
   "source": [
    "fig, ax = plt.subplots((len(depth_EB)),1, figsize = (20,5))\n",
    "fig.subplots_adjust(hspace=0)\n",
    "fig.tight_layout()\n",
    "#fig.suptitle('Marine Heatwaves and Cold Spells')\n",
    "for i, n in enumerate(depth_EB):\n",
    "    OV_stacked_ax_events(EB, n, i);\n",
    "#fig.savefig('tada', dpi = 150, bbox_inches=\"tight\", pad_inches=0)"
   ]
  },
  {
   "cell_type": "code",
   "execution_count": null,
   "metadata": {},
   "outputs": [],
   "source": [
    "for n in depth_EB:\n",
    "    OV_stacked_events(oras5_EB_10, n);"
   ]
  },
  {
   "cell_type": "code",
   "execution_count": null,
   "metadata": {},
   "outputs": [],
   "source": [
    "for n in depth_WB:\n",
    "    OV_stacked_events(oras5_WB_10, n)\n",
    "    plt.tight_layout;"
   ]
  },
  {
   "cell_type": "code",
   "execution_count": null,
   "metadata": {},
   "outputs": [],
   "source": [
    "# fig, ax=plt.subplots(figsize=(20,12))\n",
    "\n",
    "# for n in depth_EB:\n",
    "#     OV_events(EB, n)\n",
    "    \n",
    "# #plt.savefig('figures/MHW and MCS in one figure', dpi =300)"
   ]
  },
  {
   "cell_type": "code",
   "execution_count": null,
   "metadata": {},
   "outputs": [],
   "source": [
    "# for n in depth_EB:\n",
    "#     fig, ax = plt.subplots(1,2, figsize= (20,5))\n",
    "#     fig.suptitle('Rockall Trough West Marine Heatwaves (MHWs) Depth ' + str(n))\n",
    "#     MHW_plot(ds_eb.time,EB['temp'][str(n)],EB['clim'][str(n)],ax[0])\n",
    "#     ax[0].set_title('Clim from Dataset')\n",
    "#     MHW_plot(ds_eb.time,oras5_EB_10['temp'][str(n)],oras5_EB_10['clim'][str(n)],ax[1])\n",
    "#     ax[1].set_title('Clim 2010-2019 ORAS5 data Eastern Boundary')\n",
    "#     fig.tight_layout()"
   ]
  },
  {
   "cell_type": "code",
   "execution_count": null,
   "metadata": {},
   "outputs": [],
   "source": [
    "# for n in depth_WB:\n",
    "#     fig, ax = plt.subplots(1,2, figsize= (20,5))\n",
    "#     fig.suptitle('Rockall Trough West Marine Heatwaves (MHWs) Depth ' + str(n))\n",
    "#     MHW_plot(ds_wb.time,WB['temp'][str(n)],WB['clim'][str(n)],ax[0])\n",
    "#     ax[0].set_title('Clim from Dataset')\n",
    "#     MHW_plot(ds_wb.time,oras5_WB_10['temp'][str(n)],oras5_WB_10['clim'][str(n)],ax[1])\n",
    "#     ax[1].set_title('Clim 2010-2019 ORAS5 data Western Boundary')\n",
    "#     fig.tight_layout()"
   ]
  },
  {
   "cell_type": "markdown",
   "metadata": {},
   "source": [
    "# Look at oxygen concentration"
   ]
  },
  {
   "cell_type": "code",
   "execution_count": null,
   "metadata": {},
   "outputs": [],
   "source": [
    "plt.figure(figsize=(20,8))\n",
    "plt.subplot(2,1,1)\n",
    "OV_events(EB, 750)\n",
    "plt.xlim(date(2017,5,10), date(2018,7,10))\n",
    "plt.subplot(2,1,2)\n",
    "ds_eb.oxy.sel(depth=750).plot.line(x='time')\n",
    "plt.xlim(date(2017,5,10), date(2018,7,10))\n",
    "plt.grid();"
   ]
  },
  {
   "cell_type": "code",
   "execution_count": null,
   "metadata": {},
   "outputs": [],
   "source": [
    "for n in [750, 950, 1600]:\n",
    "    Vars_and_events(EB, ds_eb.oxy, n, seventeen = True)"
   ]
  },
  {
   "cell_type": "markdown",
   "metadata": {},
   "source": [
    "# Pressure V Heatwave"
   ]
  },
  {
   "cell_type": "code",
   "execution_count": null,
   "metadata": {},
   "outputs": [],
   "source": [
    "plt.figure(figsize=(20,8))\n",
    "plt.subplot(3,1,1)\n",
    "OV_events(oras5_EB_10, 100)\n",
    "plt.subplot(3,1,2)\n",
    "OV_events(EB, 100)\n",
    "plt.subplot(3,1,3)\n",
    "ds_eb.pres.sel(depth=100).plot.line(x='time', xlim = (np.datetime64('2014-07-18'), np.datetime64('2020-10-12')), yincrease = False)\n",
    "plt.grid();\n",
    "\n",
    "plt.tight_layout()"
   ]
  },
  {
   "cell_type": "code",
   "execution_count": null,
   "metadata": {},
   "outputs": [],
   "source": [
    "## elegant way\n",
    "for n in depth_EB:\n",
    "    Vars_and_events(EB, ds_eb.pres, n, invert=True)"
   ]
  },
  {
   "cell_type": "code",
   "execution_count": null,
   "metadata": {},
   "outputs": [],
   "source": [
    "## easy way to compare EB\n",
    "for i,n in enumerate(depth_EB):\n",
    "    OV_stacked_events(EB_grid, n)\n",
    "    ds_eb.pres.sel(depth=n).plot.line(x='time', color='k')\n",
    "    plt.ylim(ds_eb.pres.sel(depth=n).max()+10, ds_eb.pres.sel(depth=n).min()-10)\n",
    "    plt.title(f'EB gridded {n}')\n",
    "    OV_stacked_events(EB, n)\n",
    "    ds_eb.pres.sel(depth=n).plot.line(x='time', color='k')\n",
    "    plt.ylim(ds_eb.pres.sel(depth=n).max()+10, ds_eb.pres.sel(depth=n).min()-10)\n",
    "    plt.title(f'EB microcat clim {n}')"
   ]
  },
  {
   "cell_type": "code",
   "execution_count": null,
   "metadata": {},
   "outputs": [],
   "source": [
    "## easy way to compare WB\n",
    "for i,n in enumerate(depth_WB):\n",
    "    OV_stacked_events(WB_grid, n)\n",
    "    ds_wb.pres.sel(depth=n).plot.line(x='time', color='k')\n",
    "    plt.ylim(ds_wb.pres.sel(depth=n).max()+10, ds_wb.pres.sel(depth=n).min()-10)\n",
    "    plt.title(f'WB gridded {n}')\n",
    "    OV_stacked_events(WB, n)\n",
    "    ds_wb.pres.sel(depth=n).plot.line(x='time', color='k')\n",
    "    plt.ylim(ds_wb.pres.sel(depth=n).max()+10, ds_wb.pres.sel(depth=n).min()-10)\n",
    "    plt.title(f'WB microcat clim {n}')"
   ]
  },
  {
   "cell_type": "markdown",
   "metadata": {},
   "source": [
    "# Salinity"
   ]
  },
  {
   "cell_type": "code",
   "execution_count": null,
   "metadata": {},
   "outputs": [],
   "source": [
    "for n in depth_EB:\n",
    "    Vars_and_events(EB, ds_eb.sal, n)"
   ]
  }
 ],
 "metadata": {
  "kernelspec": {
   "display_name": "Python [conda env:py3_MHW]",
   "language": "python",
   "name": "conda-env-py3_MHW-py"
  },
  "language_info": {
   "codemirror_mode": {
    "name": "ipython",
    "version": 3
   },
   "file_extension": ".py",
   "mimetype": "text/x-python",
   "name": "python",
   "nbconvert_exporter": "python",
   "pygments_lexer": "ipython3",
   "version": "3.9.5"
  }
 },
 "nbformat": 4,
 "nbformat_minor": 4
}
